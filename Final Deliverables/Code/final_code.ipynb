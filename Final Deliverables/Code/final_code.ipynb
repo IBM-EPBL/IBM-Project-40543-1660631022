{
  "cells": [
    {
      "cell_type": "markdown",
      "metadata": {
        "id": "Qx1oDt02qtUc"
      },
      "source": [
        "importing Required libraries"
      ]
    },
    {
      "cell_type": "code",
      "execution_count": null,
      "metadata": {
        "id": "A0JXP8b1to4K"
      },
      "outputs": [],
      "source": [
        "import keras\n",
        "from keras.preprocessing.image import ImageDataGenerator"
      ]
    },
    {
      "cell_type": "markdown",
      "metadata": {
        "id": "N4WawCX6qy6M"
      },
      "source": [
        "Define parameters and arguments for ImageDataGeneratior"
      ]
    },
    {
      "cell_type": "code",
      "execution_count": null,
      "metadata": {
        "id": "y6NXlqTUuxDv"
      },
      "outputs": [],
      "source": [
        "#Define the parameters/arguments for ImageDataGenerator class\n",
        "train_datagen=ImageDataGenerator(rescale=1./255,shear_range=0.2,rotation_range=180,zoom_range=0.2,horizontal_flip=True)\n",
        "\n",
        "test_datagen=ImageDataGenerator(rescale=1./255)"
      ]
    },
    {
      "cell_type": "markdown",
      "metadata": {
        "id": "PsvFcke-q1xv"
      },
      "source": [
        "Applying ImageDataGenerator"
      ]
    },
    {
      "cell_type": "code",
      "execution_count": null,
      "metadata": {
        "id": "sovxl1sWtxlT"
      },
      "outputs": [],
      "source": [
        "#Applying ImageDataGenerator functionality to trainset\n",
        "x_train=train_datagen.flow_from_directory('/content/drive/MyDrive/Dataset/Dataset/Dataset/train_set',target_size=(128,128),batch_size=32,class_mode='binary')"
      ]
    },
    {
      "cell_type": "code",
      "execution_count": null,
      "metadata": {
        "id": "O-xOrwWSt0KO"
      },
      "outputs": [],
      "source": [
        "#Applying ImageDataGenerator functionality to testset\n",
        "x_test=test_datagen.flow_from_directory('/content/drive/MyDrive/Dataset/Dataset/Dataset/test_set',target_size=(128,128),batch_size=32,class_mode='binary')"
      ]
    },
    {
      "cell_type": "markdown",
      "metadata": {
        "id": "vra6eyZDrJDx"
      },
      "source": [
        "Import model building libraries"
      ]
    },
    {
      "cell_type": "code",
      "execution_count": null,
      "metadata": {
        "id": "FMDsTbfKuGDQ"
      },
      "outputs": [],
      "source": [
        "#To define linear initialisation import sequenial\n",
        "from keras.models import Sequential\n",
        "#To add layers import Dense\n",
        "from keras.layers import Dense\n",
        "#To create convolution kernel import convolution2D\n",
        "from keras.layers import Convolution2D\n",
        "#import maxpooling layer\n",
        "from keras.layers import MaxPooling2D\n",
        "#import flatten layer\n",
        "from keras.layers import Flatten\n",
        "import warnings\n",
        "warnings.filterwarnings('ignore')"
      ]
    },
    {
      "cell_type": "markdown",
      "metadata": {
        "id": "fIAuGjpjrOaa"
      },
      "source": [
        "Initializing the model"
      ]
    },
    {
      "cell_type": "code",
      "execution_count": null,
      "metadata": {
        "id": "qIRcjeQHuB0z"
      },
      "outputs": [],
      "source": [
        "#initializing the model\n",
        "model=Sequential()"
      ]
    },
    {
      "cell_type": "markdown",
      "metadata": {
        "id": "qFjtpjF0rSty"
      },
      "source": [
        "Add CNN Layer"
      ]
    },
    {
      "cell_type": "code",
      "execution_count": null,
      "metadata": {
        "id": "NH4vc-jot_Xy"
      },
      "outputs": [],
      "source": [
        "model.add(Convolution2D(32,(3,3),input_shape=(128,128,3),activation='relu'))\n",
        "model.add(MaxPooling2D(pool_size=(2,2))) \n",
        "model.add(Flatten())"
      ]
    },
    {
      "cell_type": "markdown",
      "metadata": {
        "id": "rWMaxdNXrYK6"
      },
      "source": [
        "Add Dense Layer"
      ]
    },
    {
      "cell_type": "code",
      "execution_count": null,
      "metadata": {
        "id": "lMVwpJv4t9RU"
      },
      "outputs": [],
      "source": [
        "model.add(Dense(150,activation='relu'))\n",
        "model.add(Dense(1,activation='sigmoid'))"
      ]
    },
    {
      "cell_type": "markdown",
      "metadata": {
        "id": "3hwf6OTHri6E"
      },
      "source": [
        "Configure the learning process"
      ]
    },
    {
      "cell_type": "code",
      "execution_count": null,
      "metadata": {
        "id": "BI-L1IB-t6vE"
      },
      "outputs": [],
      "source": [
        "#configure the learning process\n",
        "model.compile(loss='binary_crossentropy',optimizer=\"adam\",metrics=[\"accuracy\"])"
      ]
    },
    {
      "cell_type": "markdown",
      "metadata": {
        "id": "FlkViyx4rn3z"
      },
      "source": [
        "Train the model"
      ]
    },
    {
      "cell_type": "code",
      "execution_count": null,
      "metadata": {
        "id": "HB-mmoskth7a"
      },
      "outputs": [],
      "source": [
        "model.fit_generator(x_train,steps_per_epoch=14,epochs=10,validation_data=x_test,validation_steps=4)"
      ]
    },
    {
      "cell_type": "markdown",
      "metadata": {
        "id": "B0mPqeq1ru-b"
      },
      "source": [
        "Save The Model"
      ]
    },
    {
      "cell_type": "code",
      "execution_count": null,
      "metadata": {
        "id": "A40ZSWBCrvra"
      },
      "outputs": [],
      "source": [
        "model.save(\"forest1.h5\")"
      ]
    },
    {
      "cell_type": "markdown",
      "metadata": {
        "id": "y2c-kXyOrzIT"
      },
      "source": [
        "Predictions"
      ]
    },
    {
      "cell_type": "code",
      "execution_count": null,
      "metadata": {
        "id": "nHFALFnqrz6E"
      },
      "outputs": [],
      "source": [
        "from keras.models import load_model\n",
        "from tensorflow.keras.preprocessing import image\n",
        "import numpy as np\n",
        "import cv2"
      ]
    },
    {
      "cell_type": "code",
      "execution_count": null,
      "metadata": {
        "id": "GsIX3fN8r3qz"
      },
      "outputs": [],
      "source": [
        "model = load_model(\"forest1.h5\")"
      ]
    },
    {
      "cell_type": "code",
      "execution_count": null,
      "metadata": {
        "id": "_Ga1uih_r4Nr"
      },
      "outputs": [],
      "source": [
        "img=image.load_img('/content/drive/MyDrive/Dataset/Dataset/Dataset/test_set/with fire/header_hypermaritime_fire.jpg')\n",
        "x=image.img_to_array(img)\n",
        "res = cv2.resize(x, dsize=(128, 128), interpolation=cv2.INTER_CUBIC)\n",
        "x=np.expand_dims(res,axis=0)"
      ]
    },
    {
      "cell_type": "code",
      "execution_count": null,
      "metadata": {
        "colab": {
          "background_save": true
        },
        "id": "qJ6iCeJ-r8N7"
      },
      "outputs": [],
      "source": [
        "img"
      ]
    },
    {
      "cell_type": "code",
      "execution_count": null,
      "metadata": {
        "id": "MtlmKK6Dr9Ea"
      },
      "outputs": [],
      "source": [
        "pred=model.predict(x)"
      ]
    },
    {
      "cell_type": "code",
      "execution_count": null,
      "metadata": {
        "id": "dw7Ex-v1r_NK"
      },
      "outputs": [],
      "source": [
        "pred"
      ]
    },
    {
      "cell_type": "markdown",
      "metadata": {
        "id": "DrQt2ZNksChh"
      },
      "source": [
        "Open CV for video processing"
      ]
    },
    {
      "cell_type": "code",
      "execution_count": null,
      "metadata": {
        "id": "hvniugt_sDiy"
      },
      "outputs": [],
      "source": [
        "pip install twilio"
      ]
    },
    {
      "cell_type": "code",
      "execution_count": null,
      "metadata": {
        "id": "pStThTzrsFwE"
      },
      "outputs": [],
      "source": [
        "pip install playsound"
      ]
    },
    {
      "cell_type": "code",
      "execution_count": null,
      "metadata": {
        "id": "QgXiNJEAsFm-"
      },
      "outputs": [],
      "source": [
        "pip install pygobject"
      ]
    },
    {
      "cell_type": "code",
      "execution_count": null,
      "metadata": {
        "id": "McQhv_T8sMFC"
      },
      "outputs": [],
      "source": [
        "from logging import WARNING\n",
        "#import opencv library\n",
        "import cv2\n",
        "#import numpy\n",
        "import numpy as np\n",
        "#import image function from keras\n",
        "from keras.preprocessing import image\n",
        "#import load_model from keras\n",
        "from keras.models import load_model\n",
        "#import client from twilio API\n",
        "from twilio.rest import Client\n",
        "#import playsound package"
      ]
    },
    {
      "cell_type": "markdown",
      "metadata": {
        "id": "1U8ug652sPDz"
      },
      "source": [
        "Sending Alert Message"
      ]
    },
    {
      "cell_type": "code",
      "execution_count": null,
      "metadata": {
        "id": "YD4_hE1VsPnT"
      },
      "outputs": [],
      "source": [
        "import cv2 \n",
        "import numpy as np\n",
        "from google.colab.patches import cv2_imshow\n",
        "from matplotlib import pyplot as plt\n",
        "import librosa\n",
        "from tensorflow.keras.preprocessing import image\n",
        "from keras.models import load_model\n",
        "# Create a VideoCapture object and read from input file\n",
        "# If the input is the camera, pass 0 instead of the video file name\n",
        "cap = cv2.VideoCapture('/content/drive/MyDrive/forest fire video/pexels-arnav-kainthola-7543653.mp4')\n",
        " \n",
        "# Check if camera opened successfully\n",
        "if (cap.isOpened()== False): \n",
        "  print(\"Error opening video stream or file\")\n",
        " \n",
        "# Read until video is completed\n",
        "while(cap.isOpened()):\n",
        "  # Capture frame-by-frame\n",
        "  ret, frame = cap.read()\n",
        "  if ret == True:\n",
        "    x=image.img_to_array(frame)\n",
        "    res=cv2.resize(x,dsize=(64,64),interpolation=cv2.INTER_CUBIC)\n",
        "    #expand the image shape\n",
        "    x=np.expand_dims(res,axis=0)\n",
        "    model=load_model(\"/content/drive/MyDrive/forest h5/forest.h5\")\n",
        "    cv2_imshow(frame)\n",
        "    pred=model.predict(x)\n",
        "    pred = int(pred[0][0])\n",
        "    pred\n",
        "    int(pred)\n",
        "    if pred==0:\n",
        "      print('no danger')\n",
        "      break\n",
        "    else:\n",
        "      print(\"forest fire\")\n",
        "      break\n",
        "  #When everything done, release the video capture object\n",
        "cap.release()\n",
        " \n",
        "# Closes all the frames\n",
        "cv2.destroyAllWindows()"
      ]
    },
    {
      "cell_type": "markdown",
      "metadata": {
        "id": "qdGuxAY8sYUa"
      },
      "source": [
        "fire detected message"
      ]
    },
    {
      "cell_type": "code",
      "execution_count": null,
      "metadata": {
        "id": "bPqAll-psNCx"
      },
      "outputs": [],
      "source": [
        "from twilio.rest import Client\n",
        "from playsound import playsound\n",
        "if pred==0:\n",
        "  print('Forest fire')\n",
        "  account_sid='AC34c4bee5e03df7bc7dba1eef297612897'\n",
        "  auth_token='1fc522239435d0c251c1fd870d715876'\n",
        "  client=Client(account_sid,auth_token)\n",
        "  message=client.messages \\\n",
        "  .create(\n",
        "      body='forest fire is not detected,stay alert',\n",
        "      #use twilio free number\n",
        "      from_='+19765934024',\n",
        "      #to number\n",
        "      to='+919962087646')\n",
        "  print(message.sid)\n",
        "  print(\"no danger\")\n",
        "  print(\"SMS Sent!\")\n",
        "elif pred==1:\n",
        "  print('fire detected')\n",
        "  print(\"SMS Sent!\")"
      ]
    }
  ],
  "metadata": {
    "colab": {
      "provenance": []
    },
    "kernelspec": {
      "display_name": "Python 3",
      "name": "python3"
    },
    "language_info": {
      "name": "python"
    }
  },
  "nbformat": 4,
  "nbformat_minor": 0
}